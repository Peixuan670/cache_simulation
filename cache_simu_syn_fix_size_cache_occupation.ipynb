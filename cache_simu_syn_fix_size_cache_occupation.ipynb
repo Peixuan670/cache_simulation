{
 "cells": [
  {
   "cell_type": "code",
   "execution_count": 1,
   "metadata": {},
   "outputs": [],
   "source": [
    "%matplotlib inline\n",
    "\n",
    "import numpy as np\n",
    "import pandas as pd\n",
    "from collections import OrderedDict\n",
    "import matplotlib.pyplot as plt"
   ]
  },
  {
   "cell_type": "code",
   "execution_count": 2,
   "metadata": {},
   "outputs": [
    {
     "data": {
      "text/html": [
       "<div>\n",
       "<style scoped>\n",
       "    .dataframe tbody tr th:only-of-type {\n",
       "        vertical-align: middle;\n",
       "    }\n",
       "\n",
       "    .dataframe tbody tr th {\n",
       "        vertical-align: top;\n",
       "    }\n",
       "\n",
       "    .dataframe thead th {\n",
       "        text-align: right;\n",
       "    }\n",
       "</style>\n",
       "<table border=\"1\" class=\"dataframe\">\n",
       "  <thead>\n",
       "    <tr style=\"text-align: right;\">\n",
       "      <th></th>\n",
       "      <th>Timestamp</th>\n",
       "      <th>Hostname</th>\n",
       "      <th>DiskNumber</th>\n",
       "      <th>Type</th>\n",
       "      <th>Offset</th>\n",
       "      <th>Size</th>\n",
       "      <th>ResponseTime</th>\n",
       "    </tr>\n",
       "  </thead>\n",
       "  <tbody>\n",
       "    <tr>\n",
       "      <th>0</th>\n",
       "      <td>128166373321652068</td>\n",
       "      <td>src1</td>\n",
       "      <td>0</td>\n",
       "      <td>Write</td>\n",
       "      <td>3173167104</td>\n",
       "      <td>36864</td>\n",
       "      <td>3126</td>\n",
       "    </tr>\n",
       "    <tr>\n",
       "      <th>1</th>\n",
       "      <td>128166373321653856</td>\n",
       "      <td>src1</td>\n",
       "      <td>0</td>\n",
       "      <td>Write</td>\n",
       "      <td>3154128896</td>\n",
       "      <td>4096</td>\n",
       "      <td>1337</td>\n",
       "    </tr>\n",
       "    <tr>\n",
       "      <th>2</th>\n",
       "      <td>128166373321653876</td>\n",
       "      <td>src1</td>\n",
       "      <td>0</td>\n",
       "      <td>Write</td>\n",
       "      <td>3154132992</td>\n",
       "      <td>4096</td>\n",
       "      <td>1318</td>\n",
       "    </tr>\n",
       "    <tr>\n",
       "      <th>3</th>\n",
       "      <td>128166373371652876</td>\n",
       "      <td>src1</td>\n",
       "      <td>0</td>\n",
       "      <td>Write</td>\n",
       "      <td>3744964608</td>\n",
       "      <td>4096</td>\n",
       "      <td>1998</td>\n",
       "    </tr>\n",
       "    <tr>\n",
       "      <th>4</th>\n",
       "      <td>128166373421651545</td>\n",
       "      <td>src1</td>\n",
       "      <td>0</td>\n",
       "      <td>Write</td>\n",
       "      <td>3173203968</td>\n",
       "      <td>32768</td>\n",
       "      <td>3009</td>\n",
       "    </tr>\n",
       "  </tbody>\n",
       "</table>\n",
       "</div>"
      ],
      "text/plain": [
       "            Timestamp Hostname  DiskNumber   Type      Offset   Size  \\\n",
       "0  128166373321652068     src1           0  Write  3173167104  36864   \n",
       "1  128166373321653856     src1           0  Write  3154128896   4096   \n",
       "2  128166373321653876     src1           0  Write  3154132992   4096   \n",
       "3  128166373371652876     src1           0  Write  3744964608   4096   \n",
       "4  128166373421651545     src1           0  Write  3173203968  32768   \n",
       "\n",
       "   ResponseTime  \n",
       "0          3126  \n",
       "1          1337  \n",
       "2          1318  \n",
       "3          1998  \n",
       "4          3009  "
      ]
     },
     "execution_count": 2,
     "metadata": {},
     "output_type": "execute_result"
    }
   ],
   "source": [
    "ori_df = pd.read_csv('../../traces/MSR-Cambridge2/CAMRESSDPA01-lvm0.csv', header=None)\n",
    "ori_df.columns = ['Timestamp', 'Hostname', 'DiskNumber', 'Type', 'Offset', 'Size', 'ResponseTime']\n",
    "ori_df['Timestamp'] = ori_df['Timestamp'].astype(np.int64)\n",
    "ori_df = ori_df.sort_values(by='Timestamp')\n",
    "ori_df.head()\n",
    "#df.tail()"
   ]
  },
  {
   "cell_type": "code",
   "execution_count": 3,
   "metadata": {},
   "outputs": [
    {
     "name": "stdout",
     "output_type": "stream",
     "text": [
      "src1    37415613\n",
      "Name: Hostname, dtype: int64\n",
      "0    37415613\n",
      "Name: DiskNumber, dtype: int64\n"
     ]
    },
    {
     "data": {
      "text/plain": [
       "37415613"
      ]
     },
     "execution_count": 3,
     "metadata": {},
     "output_type": "execute_result"
    }
   ],
   "source": [
    "print(ori_df['Hostname'].value_counts())\n",
    "print(ori_df['DiskNumber'].value_counts())\n",
    "ori_req_num = ori_df['Timestamp'].count()\n",
    "ori_req_num"
   ]
  },
  {
   "cell_type": "code",
   "execution_count": 4,
   "metadata": {},
   "outputs": [
    {
     "data": {
      "text/plain": [
       "164910662144"
      ]
     },
     "execution_count": 4,
     "metadata": {},
     "output_type": "execute_result"
    }
   ],
   "source": [
    "total_size = ori_df.drop_duplicates(['Offset'])['Size'].sum()\n",
    "total_size"
   ]
  },
  {
   "cell_type": "code",
   "execution_count": 5,
   "metadata": {},
   "outputs": [],
   "source": [
    "max_cache_size = 10000000000\n",
    "cache_size_array = [max_cache_size*0.01, max_cache_size*0.05, max_cache_size*0.1, max_cache_size*0.5, max_cache_size]"
   ]
  },
  {
   "cell_type": "code",
   "execution_count": 6,
   "metadata": {},
   "outputs": [],
   "source": [
    "# Take first 10% of the trace\n",
    "sample_num = int(ori_req_num * 0.5)\n",
    "df = ori_df.head(sample_num)"
   ]
  },
  {
   "cell_type": "code",
   "execution_count": 7,
   "metadata": {},
   "outputs": [
    {
     "data": {
      "text/plain": [
       "18707806"
      ]
     },
     "execution_count": 7,
     "metadata": {},
     "output_type": "execute_result"
    }
   ],
   "source": [
    "req_num = df['Timestamp'].count()\n",
    "req_num"
   ]
  },
  {
   "cell_type": "code",
   "execution_count": 8,
   "metadata": {},
   "outputs": [
    {
     "data": {
      "text/plain": [
       "155249052160"
      ]
     },
     "execution_count": 8,
     "metadata": {},
     "output_type": "execute_result"
    }
   ],
   "source": [
    "total_size = df.drop_duplicates(['Offset'])['Size'].sum()\n",
    "total_size"
   ]
  },
  {
   "cell_type": "code",
   "execution_count": 9,
   "metadata": {},
   "outputs": [
    {
     "data": {
      "text/plain": [
       "[1342467, 1334327, 1334319, 1334166]"
      ]
     },
     "execution_count": 9,
     "metadata": {},
     "output_type": "execute_result"
    }
   ],
   "source": [
    "workload_of_caches = [0, 0, 0, 0]\n",
    "for row in df.drop_duplicates(['Offset']).itertuples():\n",
    "    workload_of_caches[(getattr(row, 'Offset') // 10000 % 1000000) & 0b11111 % 4] += 1\n",
    "workload_of_caches        # 检验哈希函数合理性"
   ]
  },
  {
   "cell_type": "code",
   "execution_count": 10,
   "metadata": {},
   "outputs": [],
   "source": [
    "def make_requests():\n",
    "    for row in df.itertuples():\n",
    "        yield getattr(row, 'Offset'), getattr(row, 'Size')"
   ]
  },
  {
   "cell_type": "code",
   "execution_count": 11,
   "metadata": {},
   "outputs": [],
   "source": [
    "class Server:                                       # 服务器(cache)\n",
    "    def __init__(self, space):\n",
    "        self.space = space                          # cache大小\n",
    "        self.remain = space                         # cache剩余空间\n",
    "        self.cache = OrderedDict()                  # OrderDict() 模拟cache LRU方法\n",
    "        self.hit_count = 0                          # 命中次数\n",
    "        self.bite_hit_count = 0\n",
    "        self.miss_count = 0                         # 未命中次数\n",
    "        self.bite_miss_count = 0\n",
    "\n",
    "    def _hit(self, fid, size):\n",
    "        self.hit_count += 1\n",
    "        self.bite_hit_count += size\n",
    "        self.cache.move_to_end(fid)\n",
    "\n",
    "    def _miss(self, fid, size):\n",
    "        self.miss_count += 1\n",
    "        self.bite_miss_count += size\n",
    "        while self.remain < size:\n",
    "            self.remain += self.cache.popitem(last=False)[-1]  # pop出第一个item\n",
    "        self.cache[fid] = size\n",
    "        self.remain -= size\n",
    "\n",
    "    def handle(self, fid, size):                         # 处理一次请求\n",
    "        if fid in self.cache.keys():\n",
    "            self._hit(fid, size)\n",
    "            #return 1\n",
    "        else:\n",
    "            self._miss(fid, size)\n",
    "            #return 0\n",
    "\n",
    "    def hit_rate(self):\n",
    "        try:\n",
    "            return self.hit_count / (self.hit_count + self.miss_count)\n",
    "        except:\n",
    "            return \"Server has not been requested yet!\"\n",
    "    \n",
    "    def bite_hit_rate(self):\n",
    "        try:\n",
    "            return self.bite_hit_count / (self.bite_hit_count + self.bite_miss_count)\n",
    "        except:\n",
    "            return \"Server has not been requested yet!\"\n",
    "    \n",
    "    def get_occupation(self):\n",
    "        return self.space - self.remain"
   ]
  },
  {
   "cell_type": "code",
   "execution_count": 12,
   "metadata": {},
   "outputs": [],
   "source": [
    "class Dispatcher:\n",
    "    def __init__(self, file_number, cache_size, cache_number, simple=True):\n",
    "        self.cache_number = cache_number\n",
    "        self.big_cache = Server(cache_size * cache_number)\n",
    "        self.small_caches = []\n",
    "        for i in range(cache_number):\n",
    "            server = Server(cache_size)\n",
    "            self.small_caches.append(server)\n",
    "        self.small_caches_heat = [0] * cache_number\n",
    "        if simple:\n",
    "            self.handle_requests = self.simple_hash\n",
    "        else:\n",
    "            self.handle_requests = self.load_balance\n",
    "            self.file_mapper = {}\n",
    "            for row in df.drop_duplicates(['Offset']).itertuples():\n",
    "                fid = getattr(row,'Offset')\n",
    "                self.file_mapper[fid] = (fid // 10000 % 1000000) & 0b11111 % cache_number\n",
    "        \n",
    "    def load_balance(self, fid, size):\n",
    "        server = self.file_mapper[fid]\n",
    "        if fid in self.small_caches[server].cache.keys():\n",
    "            self.small_caches[server].handle(fid, size)\n",
    "            self.small_caches_heat[self.file_mapper[fid]] += size\n",
    "        else:\n",
    "            server = self.small_caches_heat.index(min(self.small_caches_heat))\n",
    "            self.small_caches[server].handle(fid, size)\n",
    "            self.file_mapper[fid] = server\n",
    "        self.big_cache.handle(fid, size)\n",
    "        \n",
    "    def simple_hash(self, fid, size):\n",
    "        self.big_cache.handle(fid, size)\n",
    "        self.small_caches[(fid // 10000 % 1000000) & 0b11111 % self.cache_number].handle(fid, size)"
   ]
  },
  {
   "cell_type": "code",
   "execution_count": 13,
   "metadata": {},
   "outputs": [
    {
     "name": "stdout",
     "output_type": "stream",
     "text": [
      "5345279\n",
      "4\n"
     ]
    }
   ],
   "source": [
    "FILE_NUM = len(df['Offset'].value_counts())\n",
    "CACHE_NUMBER = 4\n",
    "print(FILE_NUM)\n",
    "print(CACHE_NUMBER)"
   ]
  },
  {
   "cell_type": "code",
   "execution_count": 14,
   "metadata": {},
   "outputs": [
    {
     "data": {
      "text/plain": [
       "'small_server_hit_rate = []\\nsmall_server_hit_number = []\\nsmall_server_hit_ratio = []\\nsmall_server_hit_ratio_syn = []\\nbig_server_hit_rate = []\\nbig_server_hit_number = []\\nbig_server_hit_ratio = []\\nbig_server_hit_ratio_syn = []\\n\\ncache_size_array = []\\nfor cache_size in range(total_size // 100, total_size // 10, total_size // 100):\\n    cache_size_array.append(cache_size / total_size)\\n    hash_dispatcher = Dispatcher(FILE_NUM, cache_size, CACHE_NUMBER)\\n    for fid, size in make_requests():\\n        hash_dispatcher.handle_requests(fid, size)\\n    small_server_hit_rate.append([i.hit_rate() for i in hash_dispatcher.small_caches])\\n    small_server_hit_number.append(sum([i.hit_count for i in hash_dispatcher.small_caches]))\\n    small_server_hit_ratio.append((sum([i.hit_count for i in hash_dispatcher.small_caches]))/req_num)\\n    big_server_hit_rate.append(hash_dispatcher.big_cache.hit_rate())\\n    big_server_hit_number.append(hash_dispatcher.big_cache.hit_count)\\n    big_server_hit_ratio.append((sum([i.hit_count for i in hash_dispatcher.small_caches]))/req_num)'"
      ]
     },
     "execution_count": 14,
     "metadata": {},
     "output_type": "execute_result"
    }
   ],
   "source": [
    "'''small_server_hit_rate = []\n",
    "small_server_hit_number = []\n",
    "small_server_hit_ratio = []\n",
    "small_server_hit_ratio_syn = []\n",
    "big_server_hit_rate = []\n",
    "big_server_hit_number = []\n",
    "big_server_hit_ratio = []\n",
    "big_server_hit_ratio_syn = []\n",
    "\n",
    "cache_size_array = []\n",
    "for cache_size in range(total_size // 100, total_size // 10, total_size // 100):\n",
    "    cache_size_array.append(cache_size / total_size)\n",
    "    hash_dispatcher = Dispatcher(FILE_NUM, cache_size, CACHE_NUMBER)\n",
    "    for fid, size in make_requests():\n",
    "        hash_dispatcher.handle_requests(fid, size)\n",
    "    small_server_hit_rate.append([i.hit_rate() for i in hash_dispatcher.small_caches])\n",
    "    small_server_hit_number.append(sum([i.hit_count for i in hash_dispatcher.small_caches]))\n",
    "    small_server_hit_ratio.append((sum([i.hit_count for i in hash_dispatcher.small_caches]))/req_num)\n",
    "    big_server_hit_rate.append(hash_dispatcher.big_cache.hit_rate())\n",
    "    big_server_hit_number.append(hash_dispatcher.big_cache.hit_count)\n",
    "    big_server_hit_ratio.append((sum([i.hit_count for i in hash_dispatcher.small_caches]))/req_num)'''"
   ]
  },
  {
   "cell_type": "code",
   "execution_count": 15,
   "metadata": {},
   "outputs": [
    {
     "data": {
      "text/plain": [
       "'plt.figure(figsize=(15,8))\\nplt.plot(cache_size_array, small_server_hit_number, color=\\'red\\', label=\\'little caches\\')\\nplt.plot(cache_size_array, big_server_hit_number, color=\\'black\\', label=\\'big cache\\')\\nplt.xlabel(\"little cache size / file pool total size\")\\nplt.ylabel(\"hit number\")\\nplt.title(\"simple hash\")\\nplt.legend()\\n#small_server_hit_ratio\\ndf.tail()\\n#print(df[\\'Hostname\\'].value_counts())\\n#df[\\'Hostname\\'].value_counts()\\ndf[\\'Hostname\\'].count()'"
      ]
     },
     "execution_count": 15,
     "metadata": {},
     "output_type": "execute_result"
    }
   ],
   "source": [
    "'''plt.figure(figsize=(15,8))\n",
    "plt.plot(cache_size_array, small_server_hit_number, color='red', label='little caches')\n",
    "plt.plot(cache_size_array, big_server_hit_number, color='black', label='big cache')\n",
    "plt.xlabel(\"little cache size / file pool total size\")\n",
    "plt.ylabel(\"hit number\")\n",
    "plt.title(\"simple hash\")\n",
    "plt.legend()\n",
    "#small_server_hit_ratio\n",
    "df.tail()\n",
    "#print(df['Hostname'].value_counts())\n",
    "#df['Hostname'].value_counts()\n",
    "df['Hostname'].count()'''"
   ]
  },
  {
   "cell_type": "code",
   "execution_count": 16,
   "metadata": {},
   "outputs": [
    {
     "data": {
      "text/plain": [
       "'plt.figure(figsize=(15,8))\\nplt.plot(cache_size_array, small_server_hit_ratio, color=\\'red\\', label=\\'little caches\\')\\nplt.plot(cache_size_array, big_server_hit_ratio, color=\\'black\\', label=\\'big cache\\')\\nplt.xlabel(\"little cache size / file pool total size\")\\nplt.ylabel(\"hit ratio\")\\nplt.title(\"simple hash\")\\nplt.legend()'"
      ]
     },
     "execution_count": 16,
     "metadata": {},
     "output_type": "execute_result"
    }
   ],
   "source": [
    "'''plt.figure(figsize=(15,8))\n",
    "plt.plot(cache_size_array, small_server_hit_ratio, color='red', label='little caches')\n",
    "plt.plot(cache_size_array, big_server_hit_ratio, color='black', label='big cache')\n",
    "plt.xlabel(\"little cache size / file pool total size\")\n",
    "plt.ylabel(\"hit ratio\")\n",
    "plt.title(\"simple hash\")\n",
    "plt.legend()'''"
   ]
  },
  {
   "cell_type": "code",
   "execution_count": 17,
   "metadata": {},
   "outputs": [
    {
     "data": {
      "text/plain": [
       "'colors = [\\'green\\', \\'yellow\\', \\'blue\\', \\'red\\']\\nplt.figure(figsize=(15,8))\\nfor i in range(CACHE_NUMBER):\\n    plt.plot(cache_size_array, [j[i] for j in small_server_hit_rate], color=colors[i], label=\\'little cache \\' + str(i + 1))\\nplt.plot(cache_size_array, big_server_hit_rate, color=\\'black\\', label=\\'big cache\\')\\nplt.xlabel(\"little cache size / file pool total size\")\\nplt.ylabel(\"hit rate\")\\nplt.title(\"simple hash\")\\nplt.legend()'"
      ]
     },
     "execution_count": 17,
     "metadata": {},
     "output_type": "execute_result"
    }
   ],
   "source": [
    "'''colors = ['green', 'yellow', 'blue', 'red']\n",
    "plt.figure(figsize=(15,8))\n",
    "for i in range(CACHE_NUMBER):\n",
    "    plt.plot(cache_size_array, [j[i] for j in small_server_hit_rate], color=colors[i], label='little cache ' + str(i + 1))\n",
    "plt.plot(cache_size_array, big_server_hit_rate, color='black', label='big cache')\n",
    "plt.xlabel(\"little cache size / file pool total size\")\n",
    "plt.ylabel(\"hit rate\")\n",
    "plt.title(\"simple hash\")\n",
    "plt.legend()'''"
   ]
  },
  {
   "cell_type": "code",
   "execution_count": null,
   "metadata": {},
   "outputs": [],
   "source": [
    "small_server_hit_rate_ = []\n",
    "small_server_hit_number_ = []\n",
    "small_server_hit_ratio_ = []\n",
    "small_server_hit_number_syn_ = []\n",
    "small_server_hit_ratio_syn_ = []\n",
    "\n",
    "small_server_occupation_syn_ = []\n",
    "small_server_remain_syn_ = []\n",
    "small_server_occupation = []\n",
    "small_server_remain = []\n",
    "\n",
    "big_server_hit_rate_ = []\n",
    "big_server_hit_number_ = []\n",
    "big_server_hit_ratio_ = []\n",
    "big_server_hit_number_syn_ = []\n",
    "big_server_hit_ratio_syn_ = []\n",
    "\n",
    "big_server_occupation_syn_ = []\n",
    "big_server_remain_syn_ = []\n",
    "big_server_occupation = []\n",
    "big_server_remain = []\n",
    "\n",
    "#small_server_hit_seq = []\n",
    "#big_server_hit_seq = []\n",
    "\n",
    "cache_size_array_ = []\n",
    "#for cache_size in range(total_size // 100, total_size // 10, total_size // 100):\n",
    "#    cache_size_array_.append(cache_size / total_size)\n",
    "for cache_size in cache_size_array:\n",
    "    cache_size_array_.append(cache_size)\n",
    "    hash_dispatcher = Dispatcher(FILE_NUM, cache_size, CACHE_NUMBER, False)\n",
    "    cur_req = 0\n",
    "    sub_big_server_hit_ratio_syn_ = []\n",
    "    sub_small_server_hit_ratio_syn_ = []\n",
    "    \n",
    "    sub_big_server_hit_number_syn_ = []\n",
    "    sub_small_server_hit_number_syn_ = []\n",
    "    \n",
    "    sub_big_server_occupation_syn_ = []\n",
    "    sub_small_server_occupation_syn_ = []\n",
    "    \n",
    "    for fid, size in make_requests():\n",
    "        hash_dispatcher.handle_requests(fid, size)\n",
    "        \n",
    "        \n",
    "        cur_req += 1\n",
    "        \n",
    "        sub_big_server_hit_ratio_syn_.append(hash_dispatcher.big_cache.hit_count/cur_req)\n",
    "        sub_small_server_hit_ratio_syn_.append(sum([i.hit_count for i in hash_dispatcher.small_caches])/cur_req)\n",
    "        \n",
    "        sub_big_server_hit_number_syn_.append(hash_dispatcher.big_cache.hit_count)\n",
    "        sub_small_server_hit_number_syn_.append(sum([i.hit_count for i in hash_dispatcher.small_caches]))\n",
    "        \n",
    "        sub_big_server_occupation_syn_.append(hash_dispatcher.big_cache.space - hash_dispatcher.big_cache.remain)\n",
    "        sub_small_server_occupation_syn_.append(sum([(i.hash_dispatcher.big_cache.space - i.hash_dispatcher.big_cache.remain) for i in hash_dispatcher.small_caches]))\n",
    "        \n",
    "        sub_big_server_remain.append(hash_dispatcher.big_cache.remain)\n",
    "        sub_small_server_remain.append(sum([(i.hash_dispatcher.big_cache.remain) for i in hash_dispatcher.small_caches]))\n",
    "        \n",
    "    big_server_hit_ratio_syn_.append(sub_big_server_hit_ratio_syn_)\n",
    "    small_server_hit_ratio_syn_.append(sub_small_server_hit_ratio_syn_)\n",
    "    \n",
    "    big_server_hit_number_syn_.append(sub_big_server_hit_number_syn_)\n",
    "    small_server_hit_number_syn_.append(sub_small_server_hit_number_syn_)\n",
    "    \n",
    "    big_server_occupation_syn_.append(sub_big_server_occupation_syn_)\n",
    "    small_server_occupation_syn_.append(sub_small_server_occupation_syn_)\n",
    "    \n",
    "    big_server_remain_syn_.append(sub_big_server_remain_syn_)\n",
    "    small_server_remain_syn_.append(sub_small_server_remain_syn_)\n",
    "        \n",
    "    small_server_hit_rate_.append([i.hit_rate() for i in hash_dispatcher.small_caches])\n",
    "    small_server_hit_number_.append(sum([i.hit_count for i in hash_dispatcher.small_caches]))\n",
    "    small_server_hit_ratio_.append(sum([i.hit_count for i in hash_dispatcher.small_caches])/req_num)\n",
    "\n",
    "    big_server_hit_rate_.append(hash_dispatcher.big_cache.hit_rate())\n",
    "    big_server_hit_number_.append(hash_dispatcher.big_cache.hit_count)\n",
    "    big_server_hit_ratio_.append(hash_dispatcher.big_cache.hit_count/req_num)"
   ]
  },
  {
   "cell_type": "code",
   "execution_count": null,
   "metadata": {},
   "outputs": [],
   "source": [
    "plt.figure(figsize=(15,8))\n",
    "plt.plot(cache_size_array_, small_server_hit_number_, color='red', label='little caches')\n",
    "plt.plot(cache_size_array_, big_server_hit_number_, color='black', label='big cache')\n",
    "plt.xlabel(\"little cache size / file pool total size\")\n",
    "plt.ylabel(\"hit number\")\n",
    "plt.title(\"load balanced dispatcher\")\n",
    "plt.legend()"
   ]
  },
  {
   "cell_type": "code",
   "execution_count": null,
   "metadata": {},
   "outputs": [],
   "source": [
    "plt.figure(figsize=(15,8))\n",
    "plt.plot(cache_size_array_, small_server_hit_ratio_, color='red', label='little caches')\n",
    "plt.plot(cache_size_array_, big_server_hit_ratio_, color='black', label='big cache')\n",
    "plt.xlabel(\"little cache size / file pool total size\")\n",
    "plt.ylabel(\"hit number\")\n",
    "plt.title(\"load balanced dispatcher\")\n",
    "plt.legend()"
   ]
  },
  {
   "cell_type": "code",
   "execution_count": null,
   "metadata": {},
   "outputs": [],
   "source": [
    "plt.figure(figsize=(15,8))\n",
    "plt.plot(range(len(small_server_hit_ratio_syn_[4])), small_server_hit_ratio_syn_[4], color='red', label='little caches')\n",
    "plt.plot(range(len(big_server_hit_ratio_syn_[4])), big_server_hit_ratio_syn_[4], color='black', label='big cache')\n",
    "plt.xlabel(\"request number\")\n",
    "plt.ylabel(\"hit ratio\")\n",
    "plt.title(\"load balanced dispatcher\")\n",
    "plt.legend()"
   ]
  },
  {
   "cell_type": "code",
   "execution_count": null,
   "metadata": {},
   "outputs": [],
   "source": []
  },
  {
   "cell_type": "code",
   "execution_count": null,
   "metadata": {},
   "outputs": [],
   "source": [
    "colors = ['green', 'yellow', 'blue', 'red']\n",
    "plt.figure(figsize=(15,8))\n",
    "for i in range(CACHE_NUMBER):\n",
    "    plt.plot(cache_size_array_, [j[i] for j in small_server_hit_rate_], color=colors[i], label='little cache ' + str(i + 1))\n",
    "plt.plot(cache_size_array_, big_server_hit_rate_, color='black', label='big cache')\n",
    "plt.xlabel(\"little cache size / file pool total size\")\n",
    "plt.ylabel(\"hit rate\")\n",
    "plt.title(\"load balanced dispatcher\")\n",
    "plt.legend()"
   ]
  },
  {
   "cell_type": "code",
   "execution_count": null,
   "metadata": {},
   "outputs": [],
   "source": [
    "x = df['Offset'].value_counts().values"
   ]
  },
  {
   "cell_type": "code",
   "execution_count": null,
   "metadata": {},
   "outputs": [],
   "source": [
    "plt.figure(figsize=(15,8))\n",
    "bins = np.arange(0, 200, 1)\n",
    "#plt.hist(x[2:], bins, alpha=0.5)\n",
    "plt.hist(x[2:], bins, alpha=0.5, log = True)\n",
    "#plt.xlim(0, 1000)\n",
    "#plt.yscale('log')\n",
    "plt.legend()"
   ]
  },
  {
   "cell_type": "code",
   "execution_count": null,
   "metadata": {},
   "outputs": [],
   "source": [
    "plt.figure(figsize=(15,8))\n",
    "bins = np.arange(0, 25000, 10)\n",
    "#plt.hist(x[2:], bins, alpha=0.5)\n",
    "plt.hist(x[2:], bins, alpha=0.5, log = True)\n",
    "#plt.xlim(0, 1000)\n",
    "#plt.yscale('log')\n",
    "plt.legend()"
   ]
  },
  {
   "cell_type": "code",
   "execution_count": null,
   "metadata": {},
   "outputs": [],
   "source": [
    "'''small_server_hit_seq = []\n",
    "big_server_hit_seq = []\n",
    "\n",
    "ini_hit = 0\n",
    "\n",
    "for i in range(len(small_server_hit_number_syn_[4])):\n",
    "    req = small_server_hit_number_[4][i]\n",
    "    if i == 0:\n",
    "        prevreq = ini_hit\n",
    "    else:\n",
    "        prevreq = small_server_hit_number_[4][i-1]\n",
    "    small_server_hit_seq.append(req-prevreq)\n",
    "\n",
    "for i in range(len(big_server_hit_number_syn_[4])):\n",
    "    req = big_server_hit_number_[4][i]\n",
    "    if i == 0:\n",
    "        prevreq = ini_hit\n",
    "    else:\n",
    "        prevreq = big_server_hit_number_[4][i-1]\n",
    "    big_server_hit_seq.append(req-prevreq)'''\n",
    "        \n",
    "    "
   ]
  },
  {
   "cell_type": "code",
   "execution_count": null,
   "metadata": {},
   "outputs": [],
   "source": [
    "print(len(sub_small_server_hit_number_syn_))"
   ]
  },
  {
   "cell_type": "code",
   "execution_count": null,
   "metadata": {},
   "outputs": [],
   "source": [
    "small_server_hit_seq = []\n",
    "big_server_hit_seq = []\n",
    "\n",
    "ini_hit = 0\n",
    "\n",
    "for i in range(len(sub_small_server_hit_number_syn_)):\n",
    "    req = sub_small_server_hit_number_syn_[i]\n",
    "    if i == 0:\n",
    "        prevreq = ini_hit\n",
    "    else:\n",
    "        prevreq = sub_small_server_hit_number_syn_[i-1]\n",
    "    small_server_hit_seq.append(req-prevreq)\n",
    "\n",
    "for i in range(len(sub_big_server_hit_number_syn_)):\n",
    "    req = sub_big_server_hit_number_syn_[i]\n",
    "    if i == 0:\n",
    "        prevreq = ini_hit\n",
    "    else:\n",
    "        prevreq = sub_big_server_hit_number_syn_[i-1]\n",
    "    big_server_hit_seq.append(req-prevreq)"
   ]
  },
  {
   "cell_type": "code",
   "execution_count": null,
   "metadata": {},
   "outputs": [],
   "source": [
    "diff_small_and_big = []\n",
    "\n",
    "for i in range(len(small_server_hit_seq)):\n",
    "    if (small_server_hit_seq[i] > big_server_hit_seq[i]):\n",
    "        diff_small_and_big.append(i)"
   ]
  },
  {
   "cell_type": "code",
   "execution_count": null,
   "metadata": {},
   "outputs": [],
   "source": [
    "plt.figure(figsize=(15,8))\n",
    "#plt.plot(range(len(small_server_hit_ratio_syn_[4])), small_server_hit_ratio_syn_[4], color='red', label='little caches')\n",
    "plt.plot(range(len(diff_small_and_big)), diff_small_and_big, color='red', label='big cache')\n",
    "plt.xlabel(\"difference number\")\n",
    "plt.ylabel(\"different matching sequence\")\n",
    "plt.title(\"load balanced dispatcher\")\n",
    "plt.legend()"
   ]
  },
  {
   "cell_type": "code",
   "execution_count": null,
   "metadata": {},
   "outputs": [],
   "source": [
    "diff_small_and_big_seq = []\n",
    "\n",
    "for i in range(len(small_server_hit_seq)):\n",
    "    diff_small_and_big_seq.append(small_server_hit_seq[i] - big_server_hit_seq[i])\n",
    "    \n",
    "print(len(diff_small_and_big_seq))"
   ]
  },
  {
   "cell_type": "code",
   "execution_count": null,
   "metadata": {},
   "outputs": [],
   "source": [
    "plt.figure(figsize=(15,8))\n",
    "#plt.plot(range(len(small_server_hit_ratio_syn_[4])), small_server_hit_ratio_syn_[4], color='red', label='little caches')\n",
    "plt.plot(range(len(diff_small_and_big_seq)), diff_small_and_big_seq, color='red', label='big cache')\n",
    "plt.xlabel(\"difference number\")\n",
    "plt.ylabel(\"different matching sequence\")\n",
    "plt.title(\"load balanced dispatcher\")\n",
    "plt.legend()"
   ]
  },
  {
   "cell_type": "code",
   "execution_count": null,
   "metadata": {},
   "outputs": [],
   "source": [
    "diff_small_and_big_seq_accumulation = []\n",
    "\n",
    "acc = 0\n",
    "\n",
    "for i in range(len(small_server_hit_seq)):\n",
    "    #diff_small_and_big_seq.append(small_server_hit_seq[i] - big_server_hit_seq[i])\n",
    "    acc = small_server_hit_seq[i] - big_server_hit_seq[i] + acc\n",
    "    diff_small_and_big_seq_accumulation.append(acc)\n",
    "    \n",
    "#print(len(diff_small_and_big_seq))"
   ]
  },
  {
   "cell_type": "code",
   "execution_count": null,
   "metadata": {},
   "outputs": [],
   "source": [
    "plt.figure(figsize=(15,8))\n",
    "#plt.plot(range(len(small_server_hit_ratio_syn_[4])), small_server_hit_ratio_syn_[4], color='red', label='little caches')\n",
    "plt.plot(range(len(diff_small_and_big_seq_accumulation)), diff_small_and_big_seq_accumulation, color='red', label='big cache')\n",
    "plt.xlabel(\"difference number\")\n",
    "plt.ylabel(\"different matching sequence\")\n",
    "plt.title(\"load balanced dispatcher\")\n",
    "plt.legend()"
   ]
  },
  {
   "cell_type": "code",
   "execution_count": null,
   "metadata": {},
   "outputs": [],
   "source": [
    "# Partial analysis\n",
    "diff_small_and_big_seq_head = diff_small_and_big_seq[0:5000000]\n",
    "\n",
    "plt.figure(figsize=(15,8))\n",
    "#plt.plot(range(len(small_server_hit_ratio_syn_[4])), small_server_hit_ratio_syn_[4], color='red', label='little caches')\n",
    "plt.plot(range(len(diff_small_and_big_seq_head)), diff_small_and_big_seq_head, color='red', label='big cache')\n",
    "plt.xlabel(\"difference number\")\n",
    "plt.ylabel(\"different matching sequence\")\n",
    "plt.title(\"load balanced dispatcher\")\n",
    "plt.legend()"
   ]
  },
  {
   "cell_type": "code",
   "execution_count": null,
   "metadata": {},
   "outputs": [],
   "source": [
    "print(len(diff_small_and_big))"
   ]
  },
  {
   "cell_type": "code",
   "execution_count": null,
   "metadata": {},
   "outputs": [],
   "source": [
    "diff_small_and_big[23]"
   ]
  },
  {
   "cell_type": "code",
   "execution_count": null,
   "metadata": {},
   "outputs": [],
   "source": [
    "for i in range(20):\n",
    "    print(small_server_hit_seq[i])"
   ]
  },
  {
   "cell_type": "code",
   "execution_count": null,
   "metadata": {},
   "outputs": [],
   "source": [
    "for i in range(20):\n",
    "    print(diff_small_and_big[i])"
   ]
  },
  {
   "cell_type": "code",
   "execution_count": null,
   "metadata": {},
   "outputs": [],
   "source": [
    "for i in range(20):\n",
    "    print(diff_small_and_big[len(diff_small_and_big)-i-1])"
   ]
  },
  {
   "cell_type": "code",
   "execution_count": null,
   "metadata": {},
   "outputs": [],
   "source": []
  }
 ],
 "metadata": {
  "kernelspec": {
   "display_name": "Python 3",
   "language": "python",
   "name": "python3"
  },
  "language_info": {
   "codemirror_mode": {
    "name": "ipython",
    "version": 3
   },
   "file_extension": ".py",
   "mimetype": "text/x-python",
   "name": "python",
   "nbconvert_exporter": "python",
   "pygments_lexer": "ipython3",
   "version": "3.7.3"
  },
  "toc": {
   "base_numbering": 1,
   "nav_menu": {},
   "number_sections": true,
   "sideBar": true,
   "skip_h1_title": false,
   "title_cell": "Table of Contents",
   "title_sidebar": "Contents",
   "toc_cell": false,
   "toc_position": {},
   "toc_section_display": true,
   "toc_window_display": false
  }
 },
 "nbformat": 4,
 "nbformat_minor": 2
}
