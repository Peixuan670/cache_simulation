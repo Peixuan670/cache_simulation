{
 "cells": [
  {
   "cell_type": "code",
   "execution_count": 1,
   "metadata": {},
   "outputs": [],
   "source": [
    "import numpy as np\n",
    "import pandas as pd\n",
    "from collections import OrderedDict"
   ]
  },
  {
   "cell_type": "code",
   "execution_count": 2,
   "metadata": {},
   "outputs": [],
   "source": [
    "class Server:                                       # 服务器(cache)\n",
    "    def __init__(self, space):\n",
    "        self.space = space                          # cache大小\n",
    "        self.remain = space                         # cache剩余空间\n",
    "        self.cache = OrderedDict()                  # OrderDict() 模拟cache LRU方法\n",
    "        self.hit_count = 0                          # 命中次数\n",
    "        self.bite_hit_count = 0\n",
    "        self.miss_count = 0                         # 未命中次数\n",
    "        self.bite_miss_count = 0\n",
    "\n",
    "    def _hit(self, fid, size):\n",
    "        self.hit_count += 1\n",
    "        self.bite_hit_count += size\n",
    "        self.cache.move_to_end(fid)\n",
    "\n",
    "    def _miss(self, fid, size):\n",
    "        self.miss_count += 1\n",
    "        self.bite_miss_count += size\n",
    "        while self.remain < size:\n",
    "            self.remain += self.cache.popitem(last=False)[-1]  # pop出第一个item\n",
    "        self.cache[fid] = size\n",
    "        self.remain -= size\n",
    "\n",
    "    def handle(self, fid, size):                         # 处理一次请求\n",
    "        if fid in self.cache.keys():\n",
    "            self._hit(fid, size)\n",
    "        else:\n",
    "            self._miss(fid, size)\n",
    "\n",
    "    def hit_rate(self):\n",
    "        try:\n",
    "            return self.hit_count / (self.hit_count + self.miss_count)\n",
    "        except:\n",
    "            return \"Server has not been requested yet!\"\n",
    "    \n",
    "    def bite_hit_rate(self):\n",
    "        try:\n",
    "            return self.bite_hit_count / (self.bite_hit_count + self.bite_miss_count)\n",
    "        except:\n",
    "            return \"Server has not been requested yet!\""
   ]
  },
  {
   "cell_type": "code",
   "execution_count": 3,
   "metadata": {},
   "outputs": [],
   "source": [
    "def merger(t1, t2):\n",
    "    fid = []\n",
    "    for i in range(len(t1)):\n",
    "        fid.append(t1['fid'][i])\n",
    "        fid.append(t2['fid'][i])\n",
    "    return pd.DataFrame({'fid':fid, 'size': [1] * (2 * len(t1))})"
   ]
  },
  {
   "cell_type": "code",
   "execution_count": 26,
   "metadata": {},
   "outputs": [],
   "source": [
    "def make_requests(df):\n",
    "    for row in df.itertuples():\n",
    "        yield getattr(row, 'fid'), getattr(row, 'size')"
   ]
  },
  {
   "cell_type": "code",
   "execution_count": 73,
   "metadata": {},
   "outputs": [],
   "source": [
    "trace1 = pd.DataFrame({'fid': [1, 2, 3, 1, 2, 3, 1, 2, 3], 'size': [1, 1, 1, 1, 1, 1, 1, 1, 1]})\n",
    "trace2 = pd.DataFrame({'fid': [5, 6, 7, 8, 5, 6, 7, 8], 'size': [1, 1, 1, 1, 1, 1, 1, 1]})\n",
    "#trace_merge = merger(trace1, trace2)\n",
    "trace_merge = pd.DataFrame({'fid': [1, 2, 5, 6, 7, 3, 8, 1, 2, 5, 6, 7, 3, 8, 1, 2, 3], \n",
    "                            'size': [1] * 17})\n",
    "\n",
    "small_cache_1 = Server(3)\n",
    "small_cache_2 = Server(3)\n",
    "big_cache = Server(6)\n",
    "\n",
    "for fid, size in make_requests(trace_merge):\n",
    "    big_cache.handle(fid, size)\n",
    "    \n",
    "for fid, size in make_requests(trace1):\n",
    "    small_cache_1.handle(fid, size)\n",
    "\n",
    "for fid, size in make_requests(trace2):\n",
    "    small_cache_2.handle(fid, size)"
   ]
  },
  {
   "cell_type": "code",
   "execution_count": 74,
   "metadata": {},
   "outputs": [
    {
     "data": {
      "text/plain": [
       "1"
      ]
     },
     "execution_count": 74,
     "metadata": {},
     "output_type": "execute_result"
    }
   ],
   "source": [
    "big_cache.hit_count"
   ]
  },
  {
   "cell_type": "code",
   "execution_count": 75,
   "metadata": {},
   "outputs": [
    {
     "data": {
      "text/plain": [
       "6"
      ]
     },
     "execution_count": 75,
     "metadata": {},
     "output_type": "execute_result"
    }
   ],
   "source": [
    "small_cache_1.hit_count"
   ]
  },
  {
   "cell_type": "code",
   "execution_count": 76,
   "metadata": {},
   "outputs": [
    {
     "data": {
      "text/plain": [
       "0"
      ]
     },
     "execution_count": 76,
     "metadata": {},
     "output_type": "execute_result"
    }
   ],
   "source": [
    "small_cache_2.hit_count"
   ]
  },
  {
   "cell_type": "code",
   "execution_count": null,
   "metadata": {},
   "outputs": [],
   "source": []
  },
  {
   "cell_type": "code",
   "execution_count": null,
   "metadata": {},
   "outputs": [],
   "source": []
  },
  {
   "cell_type": "code",
   "execution_count": null,
   "metadata": {},
   "outputs": [],
   "source": []
  }
 ],
 "metadata": {
  "kernelspec": {
   "display_name": "Python 3",
   "language": "python",
   "name": "python3"
  },
  "language_info": {
   "codemirror_mode": {
    "name": "ipython",
    "version": 3
   },
   "file_extension": ".py",
   "mimetype": "text/x-python",
   "name": "python",
   "nbconvert_exporter": "python",
   "pygments_lexer": "ipython3",
   "version": "3.6.4"
  },
  "toc": {
   "base_numbering": 1,
   "nav_menu": {},
   "number_sections": true,
   "sideBar": true,
   "skip_h1_title": false,
   "title_cell": "Table of Contents",
   "title_sidebar": "Contents",
   "toc_cell": false,
   "toc_position": {},
   "toc_section_display": true,
   "toc_window_display": false
  }
 },
 "nbformat": 4,
 "nbformat_minor": 2
}
